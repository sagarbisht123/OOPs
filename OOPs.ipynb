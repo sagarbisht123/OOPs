{
 "cells": [
  {
   "cell_type": "markdown",
   "metadata": {},
   "source": [
    "# OOPs - Object Oriented Programming"
   ]
  },
  {
   "cell_type": "markdown",
   "metadata": {},
   "source": [
    "Object oriented programming or in short we say OOP is used for when we have to deal with multiple objects in a same class. Let's understand this in this way there is a <code>class</code> with the analogy of shop of table fans and in the table fans there are different <code>objects</code> with the  analogy of different fans.\n",
    "Now to be more specific all the <code>objects</code> are in the same <code>class</code> so they have some things all in common just like all the fans have most of the things in common\n",
    "We will know more about them in the upcoming sections."
   ]
  },
  {
   "cell_type": "markdown",
   "metadata": {},
   "source": [
    "## Declaring a class and the objects"
   ]
  },
  {
   "cell_type": "markdown",
   "metadata": {},
   "source": [
    "Let's learn about the syntax we use to decalre a <code>class</code> and how we declared different <code>objects</code> inside a class.\\\n",
    "The syntax we use to decalre a <code>class</code> is <code>class <*object name*>():</code>.\\\n",
    "The syntax we use to declare an <code>object</code> is <code><*object name*>=<*class name*>()</code>\n"
   ]
  },
  {
   "cell_type": "code",
   "execution_count": 7,
   "metadata": {},
   "outputs": [],
   "source": [
    "class Students(): #Decalaring a class\n",
    "    pass\n",
    "s1=Students()\n",
    "s2=Students()"
   ]
  },
  {
   "cell_type": "markdown",
   "metadata": {},
   "source": [
    "In the above example the <code>Students</code> is a <code>class</code> and <code>s1</code>  and  <code>s2</code> are the <code>objects</code>./\n",
    "We use the keyword <code>pass</code> to just run the statement of declaring the class and then move ahead if in case there is no line of "
   ]
  },
  {
   "cell_type": "markdown",
   "metadata": {},
   "source": [
    "## Knowing about attributes "
   ]
  },
  {
   "cell_type": "markdown",
   "metadata": {},
   "source": [
    "### What are attributes ?"
   ]
  },
  {
   "cell_type": "markdown",
   "metadata": {},
   "source": [
    "In programming, attributes are properties or characteristics that you can assign to different elements, like variables, objects, or classes./\n",
    "In OOPs we define the attributes in two ways-:\n",
    "- Instance attributes\n",
    "- Class attributes\n",
    ">**Instance attributes** <br>\n",
    ">These are the attributes which are different for each object. For example for the analogy of the <code>class</code> of <code>Students</code> the attributes which have different values for each student <code>s1</code> and <code>s1</code> and  <code>s2</code> like there names, roll numbers. These are instance attributes which need to be define seperately for each <code>object</code>."
   ]
  },
  {
   "cell_type": "markdown",
   "metadata": {},
   "source": [
    "  >**Class attributes**<br>\n",
    "  >These are the attributes which are same for all the objects and is declared on a <code>class</code> so it is same for all the <code>objects</code>. For example for tha anlaogy <code>class</code> named with <code>Students</code> the <code>attribute</code> of a <code>class teacher</code> and <code>total students</code> are class attributes."
   ]
  },
  {
   "cell_type": "markdown",
   "metadata": {},
   "source": [
    "## Instance attributes "
   ]
  },
  {
   "cell_type": "markdown",
   "metadata": {},
   "source": [
    "### Adding an Instance attribute"
   ]
  },
  {
   "cell_type": "markdown",
   "metadata": {},
   "source": [
    "The instance attribute is added on an <code>object</code> with the syntax <code>s1.<*attribute*>=<*value*></code>. Let's take the example of the <code>class</code> <code>students</code>.</br>\n",
    " Here let's add the Instance attribute for the object <code>s1</code> and <code>s2</code>."
   ]
  },
  {
   "cell_type": "code",
   "execution_count": 8,
   "metadata": {},
   "outputs": [
    {
     "name": "stdout",
     "output_type": "stream",
     "text": [
      "{'name': 'Rohan'}\n",
      "Rohan\n",
      "{'name': 'Rahul'}\n"
     ]
    }
   ],
   "source": [
    "class Students:\n",
    "    pass\n",
    "s1=Students()\n",
    "s2=Students()\n",
    "s1.name=\"Rohan\"\n",
    "s2.name=\"Rahul\"\n",
    "print(s1.__dict__)\n",
    "print(s1.name)\n",
    "print(s2.__dict__)"
   ]
  },
  {
   "cell_type": "markdown",
   "metadata": {},
   "source": [
    "In the above example we have added the Instance attribute <code>name</code> for the object <code>s1</code> and <code>s2</code>.</br>\n",
    "The command <code>print(s1.\\_\\_dict__)</code> display the object and their Instance attributes.</br>\n",
    "The command <code>print(s1.name)</code> displays the value corresponding to that attribut in that particular object."
   ]
  },
  {
   "cell_type": "markdown",
   "metadata": {},
   "source": [
    "### Functions in Instance attributes"
   ]
  },
  {
   "cell_type": "markdown",
   "metadata": {},
   "source": [
    "Let us know about some of the functions in instance attributes.\n",
    ">**Function** </br>\n",
    "- <code>hasattr(s1,\"name\")</code> This function returns a Boolean value that does the attribute <code>name</code> is present in the objects <code>s1</code> or not. </br>\n",
    "- <code>setattr(<*object*>,<*atribute*>,<*value*>)</code> - This function sets an attribute value. If that attribute has a value then it updates it with the new value give and if it is not present then it creats the new attribute </br>\n",
    "- <code>delattr(<*object*>,<*attribute*>)</code> - As the name suggests this function deletes the given attribute of the given object.\n",
    "- <code>getattr(<*object*>,<*attribute*>,def_value)</code>- This function returns the value of the attribute corresponding to that object. It has an optional parameter of def_value which will be the output if in case there is no value to the corresponding attribute."
   ]
  },
  {
   "cell_type": "markdown",
   "metadata": {},
   "source": [
    "Let's take the few examples to see the works of each of these functions."
   ]
  },
  {
   "cell_type": "code",
   "execution_count": 9,
   "metadata": {},
   "outputs": [
    {
     "name": "stdout",
     "output_type": "stream",
     "text": [
      "Is there the name attribute present in the object s1?\n",
      "True\n",
      "False\n",
      "{'roll_no': 23}\n",
      "{'roll_no': 24, 'name': 'rohan'}\n",
      "24\n",
      "<__main__.Students object at 0x000002B5A91D2A50> age attribute value not present\n"
     ]
    }
   ],
   "source": [
    "class Students: #Defining a class \n",
    "    pass\n",
    "s1=Students()   #Defining object in the class\n",
    "s2=Students()\n",
    "s3=Students()\n",
    "\n",
    "s1.name=\"Sagar\" #Giving values to the attributes\n",
    "s1.roll_no=23\n",
    "\n",
    "print(\"Is there the name attribute present in the object s1?\")\n",
    "print(hasattr(s1,\"name\"))\n",
    "\n",
    "delattr(s1,\"name\") #Deleting the value corresponding to the attribute name\n",
    "print(hasattr(s1,\"name\"))\n",
    "\n",
    "print(s1.__dict__) #Displaying the object s1\n",
    "\n",
    "setattr(s1,\"roll_no\",24) #Updating the existing value of the attribute roll_no\n",
    "setattr(s1,\"name\",\"rohan\") #Updating the non-existing value of the attribute name\n",
    "print(s1.__dict__)\n",
    "\n",
    "print(getattr(s1,\"roll_no\")) #Displaying the value against the existing attribute roll no\n",
    "print(s1,\"age\",\"attribute value not present\") #Giving the input of non exisitng attribute\n"
   ]
  },
  {
   "cell_type": "markdown",
   "metadata": {},
   "source": [
    "So these were some of the functions and their examples. Though it is not very comfortable to use <code>getattr(<*object*>,<*attribute*>)</code> to get the value of the attribute. We can use <code>s1.name</code>.</br>\n",
    "From next section we wil start understanding <code>Class attribute</code>."
   ]
  },
  {
   "cell_type": "markdown",
   "metadata": {},
   "source": [
    "## Class attribute\n",
    "These are the attributes which are same for all the objects and is declared on a <code>class</code> so it is same for all the <code>objects</code>. For example for tha anlaogy <code>class</code> named with <code>Students</code> the <code>attribute</code> of a <code>class teacher</code> and <code>total students</code> are class attributes.</br>\n",
    "Let's see how can we define a class attribute </br>\n",
    "- Firstly, we can define a class attribute <code><*class*>.<*class_attribute*>=<*value*></code>\n",
    "- Secondly, we can define a class attribute be defining the attribute in the class block.\n",
    "By these two ways you can define a class attribute inside and outside the class."
   ]
  },
  {
   "cell_type": "code",
   "execution_count": 10,
   "metadata": {},
   "outputs": [
    {
     "name": "stdout",
     "output_type": "stream",
     "text": [
      "{'__module__': '__main__', '__dict__': <attribute '__dict__' of 'Students' objects>, '__weakref__': <attribute '__weakref__' of 'Students' objects>, '__doc__': None, 'total_students': 45}\n"
     ]
    }
   ],
   "source": [
    "class Students: #Defining a class student\n",
    "    pass\n",
    "Students.total_students=45 #Defining a class attribute\n",
    "print(Students.__dict__) #Displaying the class"
   ]
  },
  {
   "cell_type": "code",
   "execution_count": 11,
   "metadata": {},
   "outputs": [
    {
     "name": "stdout",
     "output_type": "stream",
     "text": [
      "{'__module__': '__main__', 'total_students': 30, '__dict__': <attribute '__dict__' of 'Students' objects>, '__weakref__': <attribute '__weakref__' of 'Students' objects>, '__doc__': None}\n"
     ]
    }
   ],
   "source": [
    "class Students:\n",
    "    total_students=30 \n",
    "print(Students.__dict__)"
   ]
  },
  {
   "cell_type": "markdown",
   "metadata": {},
   "source": [
    "Now let us look at the objects and see if we can see the class attributes by displaying the objects."
   ]
  },
  {
   "cell_type": "code",
   "execution_count": 12,
   "metadata": {},
   "outputs": [
    {
     "name": "stdout",
     "output_type": "stream",
     "text": [
      "{}\n"
     ]
    }
   ],
   "source": [
    "class Students:\n",
    "    total_students=30\n",
    "s1=Students()\n",
    "print(s1.__dict__)"
   ]
  },
  {
   "cell_type": "markdown",
   "metadata": {},
   "source": [
    "As in the above example we can see though the class <code>Students</code> has an attribute <code>total_students</code> but still the object <code>s1</code>  is empty."
   ]
  },
  {
   "cell_type": "code",
   "execution_count": 13,
   "metadata": {},
   "outputs": [
    {
     "name": "stdout",
     "output_type": "stream",
     "text": [
      "30\n",
      "30\n",
      "{}\n"
     ]
    }
   ],
   "source": [
    "print(Students.total_students)\n",
    "print(s1.total_students)\n",
    "print(s1.__dict__)"
   ]
  },
  {
   "cell_type": "markdown",
   "metadata": {},
   "source": [
    "Though the object does not contain the class attributes  but still we can access the class attributes by the object with the following syntax <code><*object*>.<*class_attribute*></code>"
   ]
  },
  {
   "cell_type": "markdown",
   "metadata": {},
   "source": [
    "**Updating a class attribute**</br>\n",
    "<code><*class*>.<*class_attribute*>=<*New_value*></code> By using this syntax the class attribute is updated to its new value\n",
    "\n",
    "**Updating a class attribute for an object**</br>\n",
    "<code><*object*>.<*class_attribute*>=<*New_value*></code> By using this syntax the class attribute is updated to new value for the particular mentioned object but that will make that class attribute an instance attribute. for that particular object. \n",
    "\n",
    "Let's see both of these in the example further."
   ]
  },
  {
   "cell_type": "code",
   "execution_count": 14,
   "metadata": {},
   "outputs": [
    {
     "name": "stdout",
     "output_type": "stream",
     "text": [
      "displaying the class Students {'__module__': '__main__', 'total_students': 30, '__dict__': <attribute '__dict__' of 'Students' objects>, '__weakref__': <attribute '__weakref__' of 'Students' objects>, '__doc__': None}\n",
      "displaying the object s1 {}\n",
      "displaying the class Students {'__module__': '__main__', 'total_students': 40, '__dict__': <attribute '__dict__' of 'Students' objects>, '__weakref__': <attribute '__weakref__' of 'Students' objects>, '__doc__': None}\n",
      "displaying the object s1 {}\n",
      "displaying the class Students {'__module__': '__main__', 'total_students': 40, '__dict__': <attribute '__dict__' of 'Students' objects>, '__weakref__': <attribute '__weakref__' of 'Students' objects>, '__doc__': None}\n",
      "displaying the object s1 {'total_students': 50}\n"
     ]
    }
   ],
   "source": [
    "class Students:\n",
    "    total_students=30\n",
    "s1=Students()\n",
    "print(\"displaying the class Students\", Students.__dict__)\n",
    "print(\"displaying the object s1\", s1.__dict__)\n",
    "Students.total_students=40  #Updating the value of class attribute\n",
    "print(\"displaying the class Students\", Students.__dict__) #class attribute is updated to 50\n",
    "print(\"displaying the object s1\", s1.__dict__) #object s1 is empty no attribute\n",
    "s1.total_students=50\n",
    "print(\"displaying the class Students\", Students.__dict__) #class attribute is still 50\n",
    "print(\"displaying the object s1\", s1.__dict__)  #total_students becomes the instance attribute for the s1."
   ]
  },
  {
   "cell_type": "markdown",
   "metadata": {},
   "source": [
    "## Methods"
   ]
  },
  {
   "cell_type": "markdown",
   "metadata": {},
   "source": [
    "### Instance Methods"
   ]
  },
  {
   "cell_type": "markdown",
   "metadata": {},
   "source": [
    "These are the methods or functions defined and used on an object"
   ]
  },
  {
   "cell_type": "markdown",
   "metadata": {},
   "source": [
    "### Defining an Instance method"
   ]
  },
  {
   "cell_type": "markdown",
   "metadata": {},
   "source": [
    "The Instance method is defined inside the class block with the <code>def</code> keyword.</br>\n",
    "Let's understand this with the help of an example."
   ]
  },
  {
   "cell_type": "code",
   "execution_count": 15,
   "metadata": {},
   "outputs": [
    {
     "name": "stdout",
     "output_type": "stream",
     "text": [
      "Hello\n",
      "Hello\n"
     ]
    }
   ],
   "source": [
    "class Students: \n",
    "    ##Class attributes\n",
    "    total_students=20 \n",
    "    \n",
    "    #Defining an Instance method\n",
    "    def printHello(self):\n",
    "        print(\"Hello\")\n",
    "s1=Students()\n",
    "s1.name=\"Sagar\"\n",
    "s1.printHello()\n",
    "Students.printHello(s1)"
   ]
  },
  {
   "cell_type": "markdown",
   "metadata": {},
   "source": [
    "**Keyword Self**</br>\n",
    "Interestingly when defining the instance method we gave a parameter <code>self</code> but in the syntax <code>s1.printHello()</code> there was no argument given. The reason is an instance method <code>s1.printHello()</code> is interpreted as <code>Students.printhello(s1)</code>"
   ]
  },
  {
   "cell_type": "markdown",
   "metadata": {},
   "source": [
    "Let's work with some of the more instance methods. "
   ]
  },
  {
   "cell_type": "code",
   "execution_count": 16,
   "metadata": {},
   "outputs": [
    {
     "name": "stdout",
     "output_type": "stream",
     "text": [
      "Sagar2\n",
      "Sagar\n",
      "Sagar3\n"
     ]
    }
   ],
   "source": [
    "class Students:\n",
    "    def print(self,str):\n",
    "        print(str)\n",
    "    def printName(self):\n",
    "        print(self.name)\n",
    "    def addName(self,name):\n",
    "        self.name=name\n",
    "s1=Students()\n",
    "s1.name=\"Sagar\"\n",
    "s1.print(\"Sagar2\")\n",
    "s1.printName()\n",
    "s1.addName(\"Sagar3\")\n",
    "s1.printName()"
   ]
  },
  {
   "cell_type": "markdown",
   "metadata": {},
   "source": [
    "### Concept of local variable\n"
   ]
  },
  {
   "cell_type": "markdown",
   "metadata": {},
   "source": [
    "The variable used inside an Instance method must be defined inside the the method. For example in the above set of code if we want ot access the <code>self</code> in <code>s1</code> we must define it as <code>self.name</code> not just <code>name</code>.</br>\n",
    "Similarly, if we wanna access a class attribute then we must write it as <code><*class*>.<*class_attribute*></code> not just <code><*class_attribute*></code>. Let's see an example for it "
   ]
  },
  {
   "cell_type": "code",
   "execution_count": 17,
   "metadata": {},
   "outputs": [
    {
     "name": "stdout",
     "output_type": "stream",
     "text": [
      "20\n",
      "{'__module__': '__main__', 'total_students': 10, 'test': <function Students.test at 0x000002B5A956A8E0>, '__dict__': <attribute '__dict__' of 'Students' objects>, '__weakref__': <attribute '__weakref__' of 'Students' objects>, '__doc__': None}\n"
     ]
    }
   ],
   "source": [
    "class Students():\n",
    "    total_students=20\n",
    "    def test(self,number2):\n",
    "        print(Students.total_students)\n",
    "        Students.total_students=number2\n",
    "s1=Students()\n",
    "s1.name=\"Sagar\"\n",
    "s1.test(10)\n",
    "print(Students.__dict__)"
   ]
  },
  {
   "cell_type": "markdown",
   "metadata": {},
   "source": [
    "## Constructors"
   ]
  },
  {
   "cell_type": "markdown",
   "metadata": {},
   "source": [
    "Whenever an <code>object</code> is defined then the **Constructor** is called. </br>\n",
    "The syntax of the constructor is </br>\n",
    "\n",
    "<code>def \\_\\_init__(self):</code>\n",
    "><code>pass</code>"
   ]
  },
  {
   "cell_type": "markdown",
   "metadata": {},
   "source": [
    "Interestingly, when we know that constructor is automatically called whenever an object is defined. Then we can use this constructor to edit the attributes of an object just by defining the object.</br>\n",
    "Let's look at an example for this.</br>"
   ]
  },
  {
   "cell_type": "code",
   "execution_count": 18,
   "metadata": {},
   "outputs": [
    {
     "name": "stdout",
     "output_type": "stream",
     "text": [
      "{'name': 'Mohit', 'age': 23, 'Roll_no': 101}\n"
     ]
    }
   ],
   "source": [
    "class Students():\n",
    "    total_students=20\n",
    "    def __init__(self):\n",
    "        self.name=\"Mohit\"\n",
    "        self.age=23\n",
    "        self.Roll_no=101\n",
    "s1=Students()\n",
    "print(s1.__dict__)"
   ]
  },
  {
   "cell_type": "markdown",
   "metadata": {},
   "source": [
    "In the above code just by defining the constructor we need not to use the <code><*object*>.name=\"Mohit\"</code> but there is a big flaw in this program that is whenever the program is called the objects will get the same value which we really dont want to happen. So we will need to make a program that will take input from the user about the name, age and roll no etc. Lets see that in next example "
   ]
  },
  {
   "cell_type": "code",
   "execution_count": 19,
   "metadata": {},
   "outputs": [
    {
     "name": "stdout",
     "output_type": "stream",
     "text": [
      "{'name': 'sagar', 'age': 23, 'Roll_no': 345}\n",
      "{'name': 'mohit', 'age': 23, 'Roll_no': 456}\n"
     ]
    }
   ],
   "source": [
    "class Students():\n",
    "    total_students=20\n",
    "    def __init__(self,name,age,roll_no):\n",
    "        self.name=name\n",
    "        self.age=age\n",
    "        self.Roll_no=roll_no\n",
    "s1=Students(\"sagar\",23,345)\n",
    "s2=Students(\"mohit\",23,456)\n",
    "print(s1.__dict__)\n",
    "print(s2.__dict__)"
   ]
  },
  {
   "cell_type": "markdown",
   "metadata": {},
   "source": [
    "## Access modifiers"
   ]
  },
  {
   "cell_type": "markdown",
   "metadata": {},
   "source": [
    "These access modifiers restrict the accessibility of a member variable and method outside of the class. Python supports three types of access modifiers\n",
    "* **Private**- These member variables and method can not be accessed by outside of the class. In python private properties are declared by two underscores ('__')before their declaration.\n",
    "* **Public**- These attributes can be accessed by an outside class directly.\n",
    "*  **Protected**- These properties and methods with protected access modifier can accesses within the class and from the class that inherits the protected class. In pythin, protected members and methods are declared using single underscore('_') as prefix before their names."
   ]
  },
  {
   "cell_type": "code",
   "execution_count": 20,
   "metadata": {},
   "outputs": [],
   "source": [
    "class Students:\n",
    "    __total_students=20\n",
    "    def __init__(self,name,age,rn=101):\n",
    "        self.__name=name\n",
    "    def getName(self):\n",
    "        return self.__name\n",
    "    def setName(self,name):\n",
    "        self.__name=name"
   ]
  },
  {
   "cell_type": "markdown",
   "metadata": {},
   "source": [
    "Python is an open source language so we can access the private property by the syntax <code><*object*>.\\_\\_<*class_names*>__<*private_property*>></code>"
   ]
  },
  {
   "cell_type": "markdown",
   "metadata": {},
   "source": [
    "## Class Methods"
   ]
  },
  {
   "cell_type": "markdown",
   "metadata": {},
   "source": [
    "<code>class method</code>  these methods are defined on the class. The keyword <code>self</code> points the object inside the function but actually it is not needed in a class method so we need to add a decorator <code>@class method</code> which shows that this method is a class method and then we need not to pass an object as an argument while calling the method. Then we will place of self we will use a parameter <code>cls</code>. This will point the class back but no argument is need while calling this method."
   ]
  },
  {
   "cell_type": "code",
   "execution_count": 21,
   "metadata": {},
   "outputs": [
    {
     "name": "stdout",
     "output_type": "stream",
     "text": [
      "20\n"
     ]
    }
   ],
   "source": [
    "class Students:\n",
    "    __total_students=20\n",
    "    @classmethod\n",
    "    def getTotalStudents(cls):\n",
    "        return Students.__total_students\n",
    "print(Students.getTotalStudents())"
   ]
  },
  {
   "cell_type": "code",
   "execution_count": null,
   "metadata": {},
   "outputs": [],
   "source": []
  }
 ],
 "metadata": {
  "kernelspec": {
   "display_name": "Python 3",
   "language": "python",
   "name": "python3"
  },
  "language_info": {
   "codemirror_mode": {
    "name": "ipython",
    "version": 3
   },
   "file_extension": ".py",
   "mimetype": "text/x-python",
   "name": "python",
   "nbconvert_exporter": "python",
   "pygments_lexer": "ipython3",
   "version": "3.12.1"
  }
 },
 "nbformat": 4,
 "nbformat_minor": 2
}
